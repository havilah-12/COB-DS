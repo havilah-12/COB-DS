{
  "nbformat": 4,
  "nbformat_minor": 0,
  "metadata": {
    "colab": {
      "provenance": []
    },
    "kernelspec": {
      "name": "python3",
      "display_name": "Python 3"
    },
    "language_info": {
      "name": "python"
    }
  },
  "cells": [
    {
      "cell_type": "code",
      "execution_count": null,
      "metadata": {
        "colab": {
          "base_uri": "https://localhost:8080/"
        },
        "id": "DzqYFP1tl2E5",
        "outputId": "77ddd1ce-5584-473a-fc87-44af64166a43"
      },
      "outputs": [
        {
          "output_type": "stream",
          "name": "stdout",
          "text": [
            "Original Dataset Info:\n",
            "<class 'pandas.core.frame.DataFrame'>\n",
            "Index: 0 entries\n",
            "Data columns (total 10 columns):\n",
            " #   Column        Non-Null Count  Dtype \n",
            "---  ------        --------------  ----- \n",
            " 0   show_id       0 non-null      object\n",
            " 1   type          0 non-null      object\n",
            " 2   title         0 non-null      object\n",
            " 3   director      0 non-null      object\n",
            " 4   country       0 non-null      object\n",
            " 5   date_added    0 non-null      object\n",
            " 6   release_year  0 non-null      object\n",
            " 7   rating        0 non-null      object\n",
            " 8   duration      0 non-null      object\n",
            " 9   listed_in     0 non-null      object\n",
            "dtypes: object(10)\n",
            "memory usage: 0.0+ bytes\n",
            "None\n",
            "\n",
            "Cleaned Dataset Info:\n",
            "<class 'pandas.core.frame.DataFrame'>\n",
            "Index: 0 entries\n",
            "Data columns (total 10 columns):\n",
            " #   Column        Non-Null Count  Dtype         \n",
            "---  ------        --------------  -----         \n",
            " 0   show_id       0 non-null      object        \n",
            " 1   type          0 non-null      object        \n",
            " 2   title         0 non-null      object        \n",
            " 3   director      0 non-null      object        \n",
            " 4   country       0 non-null      object        \n",
            " 5   date_added    0 non-null      datetime64[ns]\n",
            " 6   release_year  0 non-null      object        \n",
            " 7   rating        0 non-null      object        \n",
            " 8   duration      0 non-null      object        \n",
            " 9   listed_in     0 non-null      object        \n",
            "dtypes: datetime64[ns](1), object(9)\n",
            "memory usage: 0.0+ bytes\n",
            "None\n",
            "Dataset cleaning and preprocessing completed.\n"
          ]
        }
      ],
      "source": [
        "import numpy as np\n",
        "import pandas as pd\n",
        "\n",
        "# Loading the dataset from the local file\n",
        "file_path = '/content/sample_data/netlfix.csv'\n",
        "df = pd.read_csv(file_path)\n",
        "\n",
        "# Displaying basic information about the dataset\n",
        "print(\"Original Dataset Info:\")\n",
        "print(df.info())\n",
        "\n",
        "# Handles missing values\n",
        "df = df.dropna()  # Drops rows with missing values\n",
        "\n",
        "# Removes outliers\n",
        "release_year_threshold = 100\n",
        "df = df[df['release_year'] < release_year_threshold]\n",
        "\n",
        "duration_threshold = 120\n",
        "df = df[df['duration'] <= duration_threshold]\n",
        "\n",
        "# Handle missing values for string columns\n",
        "string_columns = ['director', 'country', 'listed_in','show_id', 'type', 'title', 'date_added', 'rating']\n",
        "df[string_columns] = df[string_columns].fillna('Unknown')\n",
        "\n",
        "df['director'] = df['director'].str.strip().str.lower()\n",
        "\n",
        "df['country'] = df['country'].str.strip().str.lower()\n",
        "\n",
        "df['listed_in'] = df['listed_in'].str.replace(',', '').str.lower()\n",
        "\n",
        "df['show_id'] = df['show_id'].str.strip().str.lower()\n",
        "\n",
        "df['type'] = df['type'].str.strip().str.lower()\n",
        "\n",
        "df['title'] = df['title'].str.strip().str.lower()\n",
        "\n",
        "df['date_added'] = pd.to_datetime(df['date_added'], errors='coerce')\n",
        "\n",
        "df['rating'] = df['rating'].str.upper()\n",
        "\n",
        "# Displaying basic information about the cleaned dataset\n",
        "print(\"\\nCleaned Dataset Info:\")\n",
        "print(df.info())\n",
        "\n",
        "# Save the cleaned dataset to a new CSV file\n",
        "cleaned_file_path = \"/content/sample_data/netlfix.csv\"\n",
        "df.to_csv(cleaned_file_path, index=False)\n",
        "\n",
        "print(\"Dataset cleaning and preprocessing completed.\")\n"
      ]
    }
  ]
}